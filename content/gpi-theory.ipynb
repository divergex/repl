{
 "cells": [
  {
   "metadata": {
    "ExecuteTime": {
     "end_time": "2025-03-26T18:51:07.901996Z",
     "start_time": "2025-03-26T18:51:07.899886Z"
    }
   },
   "cell_type": "code",
   "source": [
    "import numpy as np\n",
    "import gymnasium as gym\n",
    "import matplotlib.pyplot as plt"
   ],
   "outputs": [],
   "execution_count": 87
  },
  {
   "metadata": {
    "ExecuteTime": {
     "end_time": "2025-03-26T18:51:07.918727Z",
     "start_time": "2025-03-26T18:51:07.915085Z"
    }
   },
   "cell_type": "code",
   "source": [
    "class SARSAAgent:\n",
    "    def __init__(self, state_size, action_size, alpha=0.5, gamma=0.9, epsilon=0.3, epsilon_decay=0.995):\n",
    "        self.state_size = state_size\n",
    "        self.action_size = action_size\n",
    "        self.alpha = alpha\n",
    "        self.gamma = gamma\n",
    "        self.epsilon = epsilon\n",
    "        self.epsilon_decay = epsilon_decay  # Decrease epsilon over time\n",
    "        self.q_table = np.ones((state_size, action_size))  # Optimistic initialization\n",
    "\n",
    "    def choose_action(self, state):\n",
    "        if np.random.rand() < self.epsilon:\n",
    "            return np.random.choice(self.action_size)  # Explore\n",
    "        return np.argmax(self.q_table[state])  # Exploit\n",
    "\n",
    "    def update(self, state, action, reward, next_state, next_action, terminated):\n",
    "        td_target = reward\n",
    "        if not terminated:\n",
    "            td_target += self.gamma * self.q_table[next_state, next_action]\n",
    "\n",
    "        td_error = td_target - self.q_table[state, action]\n",
    "        self.q_table[state, action] += self.alpha * td_error\n",
    "\n",
    "    def decay_epsilon(self):\n",
    "        self.epsilon = max(0.01, self.epsilon * self.epsilon_decay)  # Minimum epsilon of 0.01\n"
   ],
   "outputs": [],
   "execution_count": 88
  },
  {
   "metadata": {
    "ExecuteTime": {
     "end_time": "2025-03-26T18:51:07.960383Z",
     "start_time": "2025-03-26T18:51:07.957992Z"
    }
   },
   "cell_type": "code",
   "source": [
    "def train_sarsa(env, agent, episodes=500):\n",
    "    rewards_per_episode = []\n",
    "\n",
    "    for episode in range(episodes):\n",
    "        state, _ = env.reset()\n",
    "        action = agent.choose_action(state)\n",
    "        total_reward = 0\n",
    "\n",
    "        while True:\n",
    "            next_state, reward, terminated, truncated, _ = env.step(action)\n",
    "            next_action = agent.choose_action(next_state) if not terminated else 0\n",
    "\n",
    "            agent.update(state, action, reward, next_state, next_action, terminated)\n",
    "\n",
    "            state, action = next_state, next_action\n",
    "            total_reward += reward\n",
    "\n",
    "            if terminated or truncated:\n",
    "                break\n",
    "\n",
    "        agent.decay_epsilon()\n",
    "        rewards_per_episode.append(total_reward)\n",
    "\n",
    "    return rewards_per_episode"
   ],
   "outputs": [],
   "execution_count": 89
  },
  {
   "metadata": {
    "ExecuteTime": {
     "end_time": "2025-03-26T18:51:08.005307Z",
     "start_time": "2025-03-26T18:51:08.002558Z"
    }
   },
   "cell_type": "code",
   "source": [
    "def policy_evaluation(policy, env, gamma=0.99, theta=1e-6):\n",
    "    env = env.unwrapped  # Ensure we access the base environment\n",
    "    V = np.zeros(env.observation_space.n)\n",
    "\n",
    "    while True:\n",
    "        delta = 0\n",
    "        for s in range(env.observation_space.n):\n",
    "            v = V[s]\n",
    "            V[s] = sum(policy[s, a] * sum(\n",
    "                p * (r + gamma * V[s_]) for p, s_, r, _ in env.P[s][a]\n",
    "            ) for a in range(env.action_space.n))\n",
    "            delta = max(delta, abs(v - V[s]))\n",
    "\n",
    "        if delta < theta:\n",
    "            break\n",
    "\n",
    "    return V"
   ],
   "outputs": [],
   "execution_count": 90
  },
  {
   "metadata": {
    "ExecuteTime": {
     "end_time": "2025-03-26T18:51:08.050011Z",
     "start_time": "2025-03-26T18:51:08.047522Z"
    }
   },
   "cell_type": "code",
   "source": [
    "def policy_improvement(V, env, gamma=0.99):\n",
    "    env = env.unwrapped  # Ensure we access the base environment\n",
    "    policy = np.zeros((env.observation_space.n, env.action_space.n))\n",
    "\n",
    "    for s in range(env.observation_space.n):\n",
    "        q_values = np.zeros(env.action_space.n)\n",
    "        for a in range(env.action_space.n):\n",
    "            q_values[a] = sum(p * (r + gamma * V[s_]) for p, s_, r, _ in env.P[s][a])\n",
    "        best_action = np.argmax(q_values)\n",
    "        policy[s] = np.eye(env.action_space.n)[best_action]  # One-hot encoding\n",
    "\n",
    "    return policy"
   ],
   "outputs": [],
   "execution_count": 91
  },
  {
   "metadata": {
    "ExecuteTime": {
     "end_time": "2025-03-26T18:51:08.095608Z",
     "start_time": "2025-03-26T18:51:08.093158Z"
    }
   },
   "cell_type": "code",
   "source": [
    "def policy_iteration(env, gamma=0.99):\n",
    "    policy = np.ones((env.observation_space.n, env.action_space.n)) / env.action_space.n\n",
    "\n",
    "    while True:\n",
    "        V = policy_evaluation(policy, env, gamma)\n",
    "        new_policy = policy_improvement(V, env, gamma)\n",
    "\n",
    "        if np.array_equal(new_policy, policy):\n",
    "            break\n",
    "        policy = new_policy\n",
    "\n",
    "    return policy, V"
   ],
   "outputs": [],
   "execution_count": 92
  },
  {
   "metadata": {
    "ExecuteTime": {
     "end_time": "2025-03-26T18:51:08.140441Z",
     "start_time": "2025-03-26T18:51:08.138309Z"
    }
   },
   "cell_type": "code",
   "source": "env = gym.make(\"FrozenLake-v1\", is_slippery=False, render_mode=None)",
   "outputs": [],
   "execution_count": 93
  },
  {
   "metadata": {
    "ExecuteTime": {
     "end_time": "2025-03-26T18:51:08.258235Z",
     "start_time": "2025-03-26T18:51:08.183216Z"
    }
   },
   "cell_type": "code",
   "source": [
    "agent = SARSAAgent(state_size=env.observation_space.n, action_size=env.action_space.n, alpha=0.1, gamma=0.99,\n",
    "                   epsilon=0.1)\n",
    "\n",
    "sarsa_rewards = train_sarsa(env, agent, episodes=int(1e3))\n",
    "sarsa_rewards = np.convolve(sarsa_rewards, np.ones((100,)) / 100, mode='valid')"
   ],
   "outputs": [],
   "execution_count": 94
  },
  {
   "metadata": {
    "ExecuteTime": {
     "end_time": "2025-03-26T18:51:50.956676Z",
     "start_time": "2025-03-26T18:51:50.951512Z"
    }
   },
   "cell_type": "code",
   "source": [
    "gamma = 1 - 1e-3\n",
    "policy, V = policy_iteration(env, gamma)"
   ],
   "outputs": [],
   "execution_count": 101
  },
  {
   "metadata": {
    "ExecuteTime": {
     "end_time": "2025-03-26T18:51:51.304530Z",
     "start_time": "2025-03-26T18:51:51.228600Z"
    }
   },
   "cell_type": "code",
   "source": [
    "plt.plot(sarsa_rewards, label=\"SARSA\")\n",
    "plt.axhline(V[0], color='r', linestyle='--', label=\"Optimal Value from Model-Based\")\n",
    "plt.xlabel(\"Episodes\")\n",
    "plt.ylabel(\"Total Reward\")\n",
    "plt.title(\"SARSA vs. Policy Iteration Performance\")\n",
    "plt.legend()\n",
    "plt.show()"
   ],
   "outputs": [
    {
     "data": {
      "text/plain": [
       "<Figure size 640x480 with 1 Axes>"
      ],
      "image/png": "[encoded data removed]"
     },
     "metadata": {},
     "output_type": "display_data"
    }
   ],
   "execution_count": 102
  },
  {
   "metadata": {},
   "cell_type": "markdown",
   "source": [
    "## Conclusion\n",
    "\n",
    "We see that the model based policy iteration algorithm clearly outperforms the SARSA model-free algorithm, due to the fact that it has access to the full environment model\n",
    "and thus converges to the optimal policy as the transition probabilities used correspond to the true environment.\n",
    "\n",
    "The SARSA algorithm, on the other hand, has to learn the environment model through interactions with the environment, which can be slow and inefficient,\n",
    "and uses the expected reward to update the Q-values, and thus takes longer (but still converges due to the lower bound of the epsilon decay).\n",
    "However, the SARSA algorithm is more general and can be applied to environments where the environment model and therefore the transition probabilities\n",
    "are not known or when no underlying assumptions are made about the environment.\n",
    "\n",
    "\n",
    "The main difference between the two can easily be noticed in the lines:\n",
    "\n",
    "```python\n",
    "q_values[a] = sum(p * (r + gamma * V[s_]) for p, s_, r, _ in env.P[s][a])\n",
    "```\n",
    "and\n",
    "```python\n",
    "V[s] = sum(policy[s, a] * sum(\n",
    "    p * (r + gamma * V[s_]) for p, s_, r, _ in env.P[s][a]\n",
    ") for a in range(env.action_space.n))\n",
    "```\n",
    "\n",
    "where the model-based policy iteration algorithm uses the true transition probabilities `p` from the environment model `env.P[s][a]` to calculate the expected reward,\n",
    "and SARSA uses:\n",
    "\n",
    "```python\n",
    "td_target += self.gamma * self.q_table[next_state, next_action]\n",
    "```\n",
    "which is the expected reward from the Q-table, updated according to each new observation rather than the true transition probabilities."
   ]
  }
 ],
 "metadata": {
  "kernelspec": {
   "display_name": "Python 3 (ipykernel)",
   "language": "python",
   "name": "python3"
  },
  "language_info": {
   "codemirror_mode": {
    "name": "python",
    "version": 3
   },
   "file_extension": ".py",
   "mimetype": "text/x-python",
   "name": "python",
   "nbconvert_exporter": "python",
   "pygments_lexer": "ipython3",
   "version": "3.8"
  },
  "orig_nbformat": 4
 },
 "nbformat": 4,
 "nbformat_minor": 4
}
